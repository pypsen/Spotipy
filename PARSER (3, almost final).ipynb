{
 "cells": [
  {
   "cell_type": "markdown",
   "metadata": {},
   "source": [
    "# Парсер"
   ]
  },
  {
   "cell_type": "markdown",
   "metadata": {},
   "source": [
    "#### Импортируем и настраиваем все"
   ]
  },
  {
   "cell_type": "code",
   "execution_count": 104,
   "metadata": {},
   "outputs": [],
   "source": [
    "from tqdm import tqdm\n",
    "from selenium import webdriver\n",
    "from selenium.webdriver.chrome.options import Options\n",
    "from selenium.common.exceptions import NoSuchElementException\n",
    "import chromedriver_binary \n",
    "import urllib\n",
    "import time\n",
    "from selenium.webdriver.common.keys import Keys\n",
    "import lxml\n",
    "import requests\n",
    "import base64\n",
    "import json\n",
    "import pandas as pd\n",
    "import numpy as np\n",
    "import urllib.request\n",
    "from fake_useragent import UserAgent\n",
    "from bs4 import BeautifulSoup \n",
    "from selenium.webdriver.common.action_chains  import ActionChains\n",
    "\n",
    "pd.set_option('display.max_rows', None)\n",
    "pd.set_option('display.max_columns', None)\n",
    "pd.set_option('display.max_colwidth', None)"
   ]
  },
  {
   "cell_type": "markdown",
   "metadata": {},
   "source": [
    "#####  Подготовка к работе с API, авторизируемся на сайте и изменяем кодировку для получения токена доступа."
   ]
  },
  {
   "cell_type": "code",
   "execution_count": 105,
   "metadata": {},
   "outputs": [],
   "source": [
    "url = \"https://accounts.spotify.com/api/token\"\n",
    "headers = {}\n",
    "data = {}\n",
    "\n",
    "message = f\"{'3e661d7345d04909b518ec04ec996fd2'}:{'c3ce130028654a779d6404a619845bd6'}\"\n",
    "messageBytes = message.encode('ascii')\n",
    "base64Bytes = base64.b64encode(messageBytes)\n",
    "base64Message = base64Bytes.decode('ascii')\n",
    "\n",
    "headers['Authorization'] = f\"Basic {base64Message}\"\n",
    "data['grant_type'] = \"client_credentials\"\n",
    "\n",
    "r = requests.post(url, headers=headers, data=data)\n",
    "\n",
    "token = r.json()['access_token']"
   ]
  },
  {
   "cell_type": "code",
   "execution_count": 106,
   "metadata": {},
   "outputs": [
    {
     "data": {
      "text/plain": [
       "'BQAsoyv_4LYEJCJ5Z5zI3S_UN0akV_zVojqgrBKv85MFiucmqajOXguSDwrTnRkwKhHx5GYd7_fC5LyDFtQ'"
      ]
     },
     "execution_count": 106,
     "metadata": {},
     "output_type": "execute_result"
    }
   ],
   "source": [
    "token"
   ]
  },
  {
   "cell_type": "markdown",
   "metadata": {},
   "source": [
    "Успешно получен токен."
   ]
  },
  {
   "cell_type": "markdown",
   "metadata": {},
   "source": [
    "## Пишем функции для получения и обработки данных"
   ]
  },
  {
   "cell_type": "markdown",
   "metadata": {},
   "source": [
    "###### Функция получения сведений о треках, находящихся в одном плейлисте (и ее мини-версия)"
   ]
  },
  {
   "cell_type": "code",
   "execution_count": 107,
   "metadata": {},
   "outputs": [],
   "source": [
    "def get_playlist(playlist_id):\n",
    "    playlistUrl = f'https://api.spotify.com/v1/playlists/{playlist_id}/tracks'\n",
    "    headers = {\n",
    "        \"Authorization\": \"Bearer \" + token\n",
    "    }\n",
    "    \n",
    "    page = requests.get(url=playlistUrl, headers=headers)\n",
    "    page =  page.json()\n",
    "    page = playlist_req_to_list (page)    \n",
    "    return page\n"
   ]
  },
  {
   "cell_type": "code",
   "execution_count": 108,
   "metadata": {},
   "outputs": [],
   "source": [
    "def mini_get_playlist(playlist_id):\n",
    "    playlistUrl = f'https://api.spotify.com/v1/playlists/{playlist_id}/tracks'\n",
    "    headers = {\n",
    "        \"Authorization\": \"Bearer \" + token\n",
    "    }\n",
    "    \n",
    "    page = requests.get(url=playlistUrl, headers=headers)\n",
    "    page =  page.json()\n",
    "    page = mini_playlist_req_to_list(page)    \n",
    "    return page"
   ]
  },
  {
   "cell_type": "markdown",
   "metadata": {},
   "source": [
    "###### Функция получения параметров песни"
   ]
  },
  {
   "cell_type": "code",
   "execution_count": 109,
   "metadata": {},
   "outputs": [],
   "source": [
    "def song_paramets(song_id):\n",
    "    \n",
    "    song_url = f'https://api.spotify.com/v1/audio-features/{song_id}'\n",
    "    headers = {\n",
    "        \"Authorization\": \"Bearer \" + token\n",
    "    }\n",
    "\n",
    "    page = requests.get(url=song_url, headers=headers)\n",
    "    page =  page.json()\n",
    "    return page"
   ]
  },
  {
   "cell_type": "markdown",
   "metadata": {},
   "source": [
    "###### Функция для распредения инфомации о песнях из json-формата в DataFrame-таблицу (и ее мини-версия)"
   ]
  },
  {
   "cell_type": "code",
   "execution_count": 110,
   "metadata": {},
   "outputs": [],
   "source": [
    "def playlist_req_to_list(file):\n",
    "\n",
    "    song_name = [None for i in range(50)]\n",
    "    song_id = [None for i in range(50)]\n",
    "    duration = [None for i in range(50)]\n",
    "    artist_name = [None for i in range(50)]\n",
    "    artist_id = [None for i in range(50)]\n",
    "    album_name = [None for i in range(50)]\n",
    "    album_id = [None for i in range(50)]\n",
    "    release_date = [None for i in range(50)]\n",
    "    local_position = [None for i in range(50)]\n",
    "    world_position = [None for i in range(50)]\n",
    "    danceability = [None for i in range(50)]\n",
    "    energy = [None for i in range(50)]\n",
    "    key = [None for i in range(50)]\n",
    "    loudness = [None for i in range(50)]\n",
    "    mode = [None for i in range(50)]\n",
    "    speechiness = [None for i in range(50)]\n",
    "    acousticness = [None for i in range(50)]\n",
    "    instrumentalness = [None for i in range(50)]\n",
    "    liveness = [None for i in range(50)]\n",
    "    valence = [None for i in range(50)]\n",
    "    tempo = [None for i in range(50)]\n",
    "      \n",
    "    i = 0\n",
    "    \n",
    "    for item in file['items']:        \n",
    "        song_name[i] = item['track']['name']\n",
    "        song_id[i] = item['track']['id']\n",
    "        duration[i] = item['track']['duration_ms']\n",
    "        local_position[i] = item['track']['popularity']       \n",
    "        artist_name[i] = item['track']['album']['artists'][0]['name']\n",
    "        artist_id[i] = item['track']['album']['artists'][0]['id']\n",
    "        album_name[i] = item['track']['album']['name']\n",
    "        album_id[i] = item['track']['album']['id']\n",
    "        release_date[i] = item['track']['album']['release_date']\n",
    "        \n",
    "        parametrs = song_paramets(song_id[i])\n",
    "        \n",
    "        danceability[i] = parametrs['danceability']\n",
    "        energy[i] = parametrs['energy']\n",
    "        key[i] = parametrs['key']\n",
    "        loudness[i] = parametrs['loudness']\n",
    "        mode[i] = parametrs['mode']\n",
    "        speechiness[i] = parametrs['speechiness']\n",
    "        acousticness[i] = parametrs['acousticness']\n",
    "        instrumentalness[i] = parametrs['instrumentalness']\n",
    "        liveness[i] = parametrs['liveness']\n",
    "        valence[i] = parametrs['valence']\n",
    "        tempo[i] = parametrs['tempo']\n",
    "        \n",
    "        i += 1\n",
    "        \n",
    "    data_dict = {'song_name' : song_name,\n",
    "                 'song_id' : song_id,\n",
    "                 'duration_ms' : duration,\n",
    "                 'local_position' : local_position,\n",
    "                 'artist_name' : artist_name,\n",
    "                 'artist_id' : artist_id,\n",
    "                 'album_name' : album_name,\n",
    "                 'album_id' : album_id,\n",
    "                 'release_date' : release_date,\n",
    "                 'danceability': danceability,\n",
    "                 'energy': energy,\n",
    "                 'key': key,\n",
    "                 'loudness': loudness,\n",
    "                 'mode': mode,\n",
    "                 'speechiness': speechiness,\n",
    "                 'acousticness': acousticness,\n",
    "                 'instrumentalness': instrumentalness,\n",
    "                 'liveness': liveness,\n",
    "                 'valence': valence,\n",
    "                 'tempo': tempo\n",
    "                }\n",
    "    data_set = pd.DataFrame(data_dict)\n",
    "    \n",
    "    return data_set"
   ]
  },
  {
   "cell_type": "code",
   "execution_count": 111,
   "metadata": {},
   "outputs": [],
   "source": [
    "def mini_playlist_req_to_list(file):\n",
    "\n",
    "    song_name = [None for i in range(50)]\n",
    "    song_id = [None for i in range(50)]\n",
    "      \n",
    "    i = 0\n",
    "    \n",
    "    for item in file['items']:        \n",
    "        song_name[i] = item['track']['name']\n",
    "        song_id[i] = item['track']['id']\n",
    "        \n",
    "        i += 1\n",
    "        \n",
    "    data_dict = {'song_name' : song_name, 'song_id' : song_id}\n",
    "    data_set = pd.DataFrame(data_dict)\n",
    "    \n",
    "    return data_set"
   ]
  },
  {
   "cell_type": "markdown",
   "metadata": {},
   "source": [
    "##### Функция по получению основной инфы о плейлисте"
   ]
  },
  {
   "cell_type": "code",
   "execution_count": 112,
   "metadata": {},
   "outputs": [],
   "source": [
    "def playlist_info(playlist_id):\n",
    "    playlistUrl = f'https://api.spotify.com/v1/playlists/{playlist_id}'\n",
    "    headers = {\n",
    "        \"Authorization\": \"Bearer \" + token\n",
    "    }\n",
    "    \n",
    "    page = requests.get(url=playlistUrl, headers=headers)\n",
    "    page =  page.json()\n",
    "    text = page['description']\n",
    "    number = page['followers']['total']\n",
    "    country = text[text.find('now -')+6:-1]\n",
    "    info = [playlist_id,country,number]\n",
    "    return info"
   ]
  },
  {
   "cell_type": "markdown",
   "metadata": {},
   "source": [
    "##### Функция по получению для каждого плейлиста списка песен, их места в топе, прослушиваний и т.д."
   ]
  },
  {
   "cell_type": "code",
   "execution_count": 113,
   "metadata": {},
   "outputs": [],
   "source": [
    "def get_MainInfo(playlist_id):\n",
    "    #создаем часть таблицы (место в топе в качестве индекса, имена и id песен)\n",
    "    MainInfo = mini_get_playlist(playlist_id)[['song_name', 'song_id']]\n",
    "    \n",
    "    #парсим код страницы альбома с испльзованием селениума\n",
    "    site = \"https://open.spotify.com/playlist/\" + playlist_id\n",
    "    chrome_options = Options()\n",
    "    driver = webdriver.Chrome(options=chrome_options)\n",
    "    driver.get(site)\n",
    "    time.sleep(3)\n",
    "    response = driver.page_source\n",
    "    driver.close()\n",
    "    tree = BeautifulSoup(response, 'html.parser')\n",
    "    \n",
    "    #ищем все куски кода, где написаны просмотры\n",
    "    a = tree.find_all('div', class_ = 'd47b790d001ed769adcd9ddfc0e83acc-scss f3fc214b257ae2f1d43d4c594a94497f-scss')\n",
    "    \n",
    "    #из них получаем строки с прослушиваниями и обрабатываем их\n",
    "    res = []\n",
    "    b = list(a)\n",
    "    for i in b:\n",
    "        views = str(i)[-16:-6].replace('\\xa0', '')\n",
    "        res.append(views)\n",
    "    #res - список прослушиваний от топа ко дну (неформатированный)\n",
    "    #вытащим из элементов res только числа\n",
    "    views = []\n",
    "    for i in res:\n",
    "        ddd = [s for s in i.split('>') if s.isdigit()]\n",
    "        views.append(int(ddd[0]))\n",
    "    #views - просмотры по порядку для каждой песни из топа\n",
    "    #добавляем колонки с просмотрами, местом в топе и страной к существующей таблице\n",
    "    MainInfo.insert(2, \"views\", views)\n",
    "    MainInfo.insert(0, \"place\", range(1,51))\n",
    "    MainInfo.insert(0, \"country\", playlist_info(playlist_id)[1])\n",
    "    return MainInfo"
   ]
  },
  {
   "cell_type": "markdown",
   "metadata": {},
   "source": [
    "##### функция для получения жанров по исполнителю"
   ]
  },
  {
   "cell_type": "code",
   "execution_count": 114,
   "metadata": {},
   "outputs": [],
   "source": [
    "def get_genres(artists):\n",
    "    result = []\n",
    "    for i in tqdm(artists):\n",
    "        id = i\n",
    "        playlistUrl = f'https://api.spotify.com/v1/artists/{id}'\n",
    "        headers = {\"Authorization\": \"Bearer \" + token}\n",
    "        page = requests.get(url=playlistUrl, headers=headers)\n",
    "        page = page.json()\n",
    "        genres = page['genres']\n",
    "        result.append(genres)\n",
    "        time.sleep(0.2)\n",
    "    return result"
   ]
  },
  {
   "cell_type": "markdown",
   "metadata": {},
   "source": [
    "## Находим все айдишники альбомов \n",
    "#### Полученное ids-список айдишников"
   ]
  },
  {
   "cell_type": "code",
   "execution_count": 115,
   "metadata": {},
   "outputs": [],
   "source": [
    "site = \"https://open.spotify.com/genre/charts-regional-weekly\"\n",
    "\n",
    "#chrome_options = Options() работает у Дениса\n",
    "#chrome_options.add_argument(\"--headless\")   настройка на всякий случай\n",
    "\n",
    "#настраиваем селениум\n",
    "driver = webdriver.Chrome('D:\\chromedriver.exe') #работает у Дениса\n",
    "#driver = webdriver.Chrome('/Users/alexandr/Downloads/chromedriver') #работает у Сани\n",
    "#открываем сайт, двигаем мышку и кликаем, чтобы потом заработала прокрутка\n",
    "driver.get(site)\n",
    "driver.maximize_window()\n",
    "time.sleep(3)\n",
    "ActionChains(driver).move_by_offset(1520, 350).click().perform() #у дениса 1520 350\n",
    "time.sleep(3)\n",
    "driver.find_element_by_xpath('//body').send_keys(Keys.END) \n",
    "time.sleep(3)\n",
    "driver.find_element_by_xpath('//body').send_keys(Keys.END) #моя добавка\n",
    "time.sleep(3)\n",
    "\n",
    "\n",
    "#получаем код страницы и делаем суп\n",
    "response = driver.page_source\n",
    "driver.close()\n",
    "tree = BeautifulSoup(response, 'html.parser')"
   ]
  },
  {
   "cell_type": "code",
   "execution_count": 116,
   "metadata": {},
   "outputs": [],
   "source": [
    "#ищем все ссылки на странице\n",
    "a = tree.find_all('a', class_ = 'f7ebc3d96230ee12a84a9b0b4b81bb8f-scss')\n",
    "\n",
    "#из блоков с ссылками достаем айдишники плейлистов\n",
    "ids = []\n",
    "for i in a:\n",
    "    id = i.get('href')\n",
    "    ids.append(id[10:])"
   ]
  },
  {
   "cell_type": "markdown",
   "metadata": {},
   "source": [
    "# Cобираем датасеты"
   ]
  },
  {
   "cell_type": "markdown",
   "metadata": {},
   "source": [
    "### Структура данных:\n",
    "##### 1) Маленький датасет вида (айди листа, страна, кол-во подписчиков)\n",
    "##### 2) Датасет побольше (данные о каждой песне, включая ее акустические характеристики)\n",
    "##### 3) Датасет совсем большой че с ним (данные о позиции и прослушиваниях каждой песни в каждом топе)"
   ]
  },
  {
   "cell_type": "markdown",
   "metadata": {},
   "source": [
    "### Маленький датасетик\n"
   ]
  },
  {
   "cell_type": "code",
   "execution_count": 118,
   "metadata": {
    "scrolled": false
   },
   "outputs": [],
   "source": [
    "countries = pd.DataFrame(playlist_info(item) for item in ids[:5])\n",
    "countries.columns= ['id', 'country', 'followers'] \n",
    "countries = countries.set_index('country')"
   ]
  },
  {
   "cell_type": "markdown",
   "metadata": {},
   "source": [
    "\n",
    "### Датасет побольше (данные о каждой песне)\n"
   ]
  },
  {
   "cell_type": "code",
   "execution_count": 119,
   "metadata": {
    "scrolled": true
   },
   "outputs": [
    {
     "name": "stderr",
     "output_type": "stream",
     "text": [
      "100%|████████████████████████████████████████████████████████████████████████████████████| 5/5 [01:22<00:00, 16.49s/it]\n"
     ]
    }
   ],
   "source": [
    "allsongs=pd.DataFrame()\n",
    "for item in tqdm(ids[:5]):\n",
    "    allsongs=pd.concat([allsongs,get_playlist(item)],sort=False, axis=0, )\n",
    "\n",
    "allsongs = allsongs.drop_duplicates(subset=['song_id'])\n",
    "allsongs = allsongs.set_index('song_id')"
   ]
  },
  {
   "cell_type": "code",
   "execution_count": 120,
   "metadata": {},
   "outputs": [
    {
     "name": "stderr",
     "output_type": "stream",
     "text": [
      "100%|████████████████████████████████████████████████████████████████████████████████| 147/147 [02:18<00:00,  1.06it/s]\n"
     ]
    }
   ],
   "source": [
    "#добавим инфу о жанрах в allsongs\n",
    "artists = list(allsongs['artist_id'])\n",
    "genres = get_genres(artists)\n",
    "allsongs['genres'] = genres"
   ]
  },
  {
   "cell_type": "markdown",
   "metadata": {},
   "source": [
    "### Датасет совсем большой че с ним (данные о позиции и прослушиваниях каждой песни в каждом топе)"
   ]
  },
  {
   "cell_type": "code",
   "execution_count": 121,
   "metadata": {},
   "outputs": [
    {
     "name": "stderr",
     "output_type": "stream",
     "text": [
      "100%|████████████████████████████████████████████████████████████████████████████████████| 5/5 [02:08<00:00, 25.62s/it]\n"
     ]
    }
   ],
   "source": [
    "positions = pd.DataFrame()\n",
    "for id in tqdm(ids[:5]):\n",
    "    country = get_MainInfo(id)\n",
    "    positions = pd.concat([positions, country],sort=False, axis=0)\n",
    "    \n",
    "positions = positions.reset_index(drop = True)"
   ]
  },
  {
   "cell_type": "code",
   "execution_count": null,
   "metadata": {},
   "outputs": [],
   "source": []
  },
  {
   "cell_type": "code",
   "execution_count": null,
   "metadata": {},
   "outputs": [],
   "source": []
  },
  {
   "cell_type": "code",
   "execution_count": null,
   "metadata": {},
   "outputs": [],
   "source": []
  },
  {
   "cell_type": "code",
   "execution_count": null,
   "metadata": {},
   "outputs": [],
   "source": []
  },
  {
   "cell_type": "code",
   "execution_count": 56,
   "metadata": {},
   "outputs": [],
   "source": []
  },
  {
   "cell_type": "code",
   "execution_count": 60,
   "metadata": {},
   "outputs": [],
   "source": [
    "\n"
   ]
  },
  {
   "cell_type": "code",
   "execution_count": null,
   "metadata": {},
   "outputs": [],
   "source": []
  },
  {
   "cell_type": "code",
   "execution_count": null,
   "metadata": {},
   "outputs": [],
   "source": []
  }
 ],
 "metadata": {
  "kernelspec": {
   "display_name": "Python 3",
   "language": "python",
   "name": "python3"
  },
  "language_info": {
   "codemirror_mode": {
    "name": "ipython",
    "version": 3
   },
   "file_extension": ".py",
   "mimetype": "text/x-python",
   "name": "python",
   "nbconvert_exporter": "python",
   "pygments_lexer": "ipython3",
   "version": "3.9.0"
  }
 },
 "nbformat": 4,
 "nbformat_minor": 4
}
