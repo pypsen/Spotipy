{
 "cells": [
  {
   "cell_type": "markdown",
   "metadata": {},
   "source": [
    "## Необходимые пакеты:"
   ]
  },
  {
   "cell_type": "code",
   "execution_count": 39,
   "metadata": {},
   "outputs": [],
   "source": [
    "from tqdm import tqdm\n",
    "from selenium import webdriver\n",
    "from selenium.webdriver.chrome.options import Options\n",
    "from selenium.common.exceptions import NoSuchElementException\n",
    "import chromedriver_binary \n",
    "import urllib\n",
    "import time\n",
    "from selenium import webdriver\n",
    "from selenium.webdriver.common.keys import Keys\n",
    "import lxml\n",
    "import requests\n",
    "import base64\n",
    "import json\n",
    "import pandas as pd\n",
    "import numpy as np\n",
    "from secrets import *\n",
    "import urllib.request\n",
    "from fake_useragent import UserAgent\n",
    "from bs4 import BeautifulSoup \n",
    "from selenium.webdriver.common.action_chains  import ActionChains\n",
    "import random"
   ]
  },
  {
   "cell_type": "markdown",
   "metadata": {},
   "source": [
    "#####  Подготовка к работе с API, авторизируемся на сайте и изменяем кодировку для получения токена доступа."
   ]
  },
  {
   "cell_type": "code",
   "execution_count": 40,
   "metadata": {},
   "outputs": [],
   "source": [
    "url = \"https://accounts.spotify.com/api/token\"\n",
    "headers = {}\n",
    "data = {}\n",
    "\n",
    "\n",
    "message = f\"{'3e661d7345d04909b518ec04ec996fd2'}:{'c3ce130028654a779d6404a619845bd6'}\"\n",
    "messageBytes = message.encode('ascii')\n",
    "base64Bytes = base64.b64encode(messageBytes)\n",
    "base64Message = base64Bytes.decode('ascii')\n",
    "\n",
    "headers['Authorization'] = f\"Basic {base64Message}\"\n",
    "data['grant_type'] = \"client_credentials\"\n",
    "\n",
    "r = requests.post(url, headers=headers, data=data)\n",
    "\n",
    "token = r.json()['access_token']"
   ]
  },
  {
   "cell_type": "code",
   "execution_count": 41,
   "metadata": {},
   "outputs": [
    {
     "data": {
      "text/plain": [
       "'BQAD2CtWhOULIaq_fc_o-aSG-8q5E857QAr877lpDdBIFletR_rRkKI3eB-cQXlOuev6NSHbt2UPpbmb01w'"
      ]
     },
     "execution_count": 41,
     "metadata": {},
     "output_type": "execute_result"
    }
   ],
   "source": [
    "token"
   ]
  },
  {
   "cell_type": "markdown",
   "metadata": {},
   "source": [
    "Успешно получен токен."
   ]
  },
  {
   "cell_type": "markdown",
   "metadata": {},
   "source": [
    "###### Функция получения сведений о треках, находящихся в одном плейлисте"
   ]
  },
  {
   "cell_type": "code",
   "execution_count": 42,
   "metadata": {},
   "outputs": [],
   "source": [
    "def get_playlist(playlist_id):\n",
    "    playlistUrl = f'https://api.spotify.com/v1/playlists/{playlist_id}/tracks'\n",
    "    headers = {\n",
    "        \"Authorization\": \"Bearer \" + token\n",
    "    }\n",
    "    \n",
    "    page = requests.get(url=playlistUrl, headers=headers)\n",
    "    page =  page.json()\n",
    "    page = playlist_req_to_list (page)    \n",
    "    return page\n"
   ]
  },
  {
   "cell_type": "markdown",
   "metadata": {},
   "source": [
    "###### Функция по вытягиванию параметров песни"
   ]
  },
  {
   "cell_type": "code",
   "execution_count": 43,
   "metadata": {},
   "outputs": [],
   "source": [
    "def song_paramets(song_id):\n",
    "    \n",
    "    song_url = f'https://api.spotify.com/v1/audio-features/{song_id}'\n",
    "    headers = {\n",
    "        \"Authorization\": \"Bearer \" + token\n",
    "    }\n",
    "\n",
    "    page = requests.get(url=song_url, headers=headers)\n",
    "    page =  page.json()\n",
    "    return page"
   ]
  },
  {
   "cell_type": "markdown",
   "metadata": {},
   "source": [
    "###### Функция распредения инфомации из json-формата в DataFrame-таблицу\n"
   ]
  },
  {
   "cell_type": "code",
   "execution_count": 44,
   "metadata": {},
   "outputs": [],
   "source": [
    "def playlist_req_to_list(file):\n",
    "\n",
    "    song_name = [None for i in range(50)]\n",
    "    song_id = [None for i in range(50)]\n",
    "    duration = [None for i in range(50)]\n",
    "    artist_name = [None for i in range(50)]\n",
    "    artist_id = [None for i in range(50)]\n",
    "    album_name = [None for i in range(50)]\n",
    "    album_id = [None for i in range(50)]\n",
    "    release_date = [None for i in range(50)]\n",
    "    local_position = [None for i in range(50)]\n",
    "    world_position = [None for i in range(50)]\n",
    "    danceability = [None for i in range(50)]\n",
    "    energy = [None for i in range(50)]\n",
    "    key = [None for i in range(50)]\n",
    "    loudness = [None for i in range(50)]\n",
    "    mode = [None for i in range(50)]\n",
    "    speechiness = [None for i in range(50)]\n",
    "    acousticness = [None for i in range(50)]\n",
    "    instrumentalness = [None for i in range(50)]\n",
    "    liveness = [None for i in range(50)]\n",
    "    valence = [None for i in range(50)]\n",
    "    tempo = [None for i in range(50)]\n",
    "      \n",
    "    i = 0\n",
    "    \n",
    "    for item in file['items']:        \n",
    "        song_name[i] = item['track']['name']\n",
    "        song_id[i] = item['track']['id']\n",
    "        duration[i] = item['track']['duration_ms']\n",
    "        local_position[i] = item['track']['popularity']       \n",
    "        artist_name[i] = item['track']['album']['artists'][0]['name']\n",
    "        artist_id[i] = item['track']['album']['artists'][0]['id']\n",
    "        album_name[i] = item['track']['album']['name']\n",
    "        album_id[i] = item['track']['album']['id']\n",
    "        release_date[i] = item['track']['album']['release_date']\n",
    "        \n",
    "        parametrs = song_paramets(song_id[i])\n",
    "        \n",
    "        danceability[i] = parametrs['danceability']\n",
    "        energy[i] = parametrs['energy']\n",
    "        key[i] = parametrs['key']\n",
    "        loudness[i] = parametrs['loudness']\n",
    "        mode[i] = parametrs['mode']\n",
    "        speechiness[i] = parametrs['speechiness']\n",
    "        acousticness[i] = parametrs['acousticness']\n",
    "        instrumentalness[i] = parametrs['instrumentalness']\n",
    "        liveness[i] = parametrs['liveness']\n",
    "        valence[i] = parametrs['valence']\n",
    "        tempo[i] = parametrs['tempo']\n",
    "        \n",
    "        i += 1\n",
    "        \n",
    "    data_dict = {'song_name' : song_name,\n",
    "                 'song_id' : song_id,\n",
    "                 'duration_ms' : duration,\n",
    "                 'local_position' : local_position,\n",
    "                 'artist_name' : artist_name,\n",
    "                 'artist_id' : artist_id,\n",
    "                 'album_name' : album_name,\n",
    "                 'album_id' : album_id,\n",
    "                 'release_date' : release_date,\n",
    "                 'danceability': danceability,\n",
    "                 'energy': energy,\n",
    "                 'key': key,\n",
    "                 'loudness': loudness,\n",
    "                 'mode': mode,\n",
    "                 'speechiness': speechiness,\n",
    "                 'acousticness': acousticness,\n",
    "                 'instrumentalness': instrumentalness,\n",
    "                 'liveness': liveness,\n",
    "                 'valence': valence,\n",
    "                 'tempo': tempo\n",
    "                }\n",
    "    data_set = pd.DataFrame(data_dict)\n",
    "    \n",
    "    return data_set"
   ]
  },
  {
   "cell_type": "markdown",
   "metadata": {},
   "source": [
    "##### Функция по получению основной инфы о плейлисте"
   ]
  },
  {
   "cell_type": "code",
   "execution_count": 45,
   "metadata": {},
   "outputs": [],
   "source": [
    "def playlist_info(playlist_id):\n",
    "    playlistUrl = f'https://api.spotify.com/v1/playlists/{playlist_id}'\n",
    "    headers = {\n",
    "        \"Authorization\": \"Bearer \" + token\n",
    "    }\n",
    "    \n",
    "    page = requests.get(url=song_url, headers=headers)\n",
    "    page =  page.json()\n",
    "    text = page['description']\n",
    "    number = page['followers']['total']\n",
    "    country = text[text.find('now -')+6:-1]\n",
    "    info = [country,number]\n",
    "    return info"
   ]
  },
  {
   "cell_type": "markdown",
   "metadata": {},
   "source": [
    "## Находим все айдишники альбомов \n",
    "#### Полученное ids-список айдишников"
   ]
  },
  {
   "cell_type": "code",
   "execution_count": 59,
   "metadata": {},
   "outputs": [],
   "source": [
    "site = \"https://open.spotify.com/genre/charts-regional-weekly\"\n",
    "\n",
    "#chrome_options = Options() работает у Дениса\n",
    "#chrome_options.add_argument(\"--headless\")   настройка на всякий случай\n",
    "\n",
    "#настраиваем селениум\n",
    "#driver = webdriver.Chrome('D:\\chromedriver.exe') работает у Дениса\n",
    "driver = webdriver.Chrome('/Users/alexandr/Downloads/chromedriver') #работает у Сани\n",
    "#открываем сайт, двигаем мышку и кликаем, чтобы потом заработала прокрутка\n",
    "driver.get(site)\n",
    "driver.maximize_window()\n",
    "time.sleep(3)\n",
    "ActionChains(driver).move_by_offset(2000, 900).click().perform() #у дениса 1500 350\n",
    "time.sleep(3)\n",
    "driver.find_element_by_xpath('//body').send_keys(Keys.END) \n",
    "time.sleep(3)\n",
    "driver.find_element_by_xpath('//body').send_keys(Keys.END) #моя добавка\n",
    "time.sleep(3)\n",
    "\n",
    "\n",
    "#получаем код страницы и делаем суп\n",
    "response = driver.page_source\n",
    "driver.close()\n",
    "tree = BeautifulSoup(response, 'html.parser')"
   ]
  },
  {
   "cell_type": "code",
   "execution_count": 61,
   "metadata": {},
   "outputs": [],
   "source": [
    "#ищем все ссылки на странице\n",
    "a = tree.find_all('a', class_ = 'f7ebc3d96230ee12a84a9b0b4b81bb8f-scss')\n",
    "\n",
    "#из блоков с ссылками достаем айдишники\n",
    "ids = []\n",
    "for i in a:\n",
    "    id = i.get('href')\n",
    "    ids.append(id[10:])"
   ]
  },
  {
   "cell_type": "markdown",
   "metadata": {},
   "source": [
    "##### Функция по поиску прослушиваний для каждого плейлиста\n"
   ]
  },
  {
   "cell_type": "code",
   "execution_count": 65,
   "metadata": {},
   "outputs": [],
   "source": [
    "def viewslist(playlist_id):\n",
    "    site = f'https://open.spotify.com/playlist/{playlist_id}'\n",
    "    driver = webdriver.Chrome('/Users/alexandr/Downloads/chromedriver')\n",
    "    driver.get(site)\n",
    "    time.sleep(2)\n",
    "    response = driver.page_source\n",
    "    driver.close()\n",
    "    tree = BeautifulSoup(response, 'html.parser')\n",
    "    a = tree.find_all('div', class_ = 'd47b790d001ed769adcd9ddfc0e83acc-scss f3fc214b257ae2f1d43d4c594a94497f-scss')\n",
    "    res = []\n",
    "    b = list(a)\n",
    "    for i in b:\n",
    "        views = str(i)[-16:-6].replace('\\xa0', '')\n",
    "        res.append(views)\n",
    "    views = []\n",
    "    for i in res:\n",
    "        ddd = [s for s in i.split('>') if s.isdigit()]\n",
    "        views.append(int(ddd[0]))\n",
    "    return views"
   ]
  },
  {
   "cell_type": "markdown",
   "metadata": {},
   "source": [
    "# Cобираем датасэты"
   ]
  },
  {
   "cell_type": "markdown",
   "metadata": {},
   "source": [
    "## Структура данных:\n",
    "#### Маленький датасетик вида (айди листа, страна, кол-во лайков)\n",
    "#### Датасет побольбше (данные о каждой песне)\n",
    "#### Датасет совсем большой че с ним (данные о позиции и прослушиваниях каждой песни в каждом топе)"
   ]
  },
  {
   "cell_type": "markdown",
   "metadata": {},
   "source": [
    "### Маленький датасетик"
   ]
  }
 ],
 "metadata": {
  "kernelspec": {
   "display_name": "Python 3",
   "language": "python",
   "name": "python3"
  },
  "language_info": {
   "codemirror_mode": {
    "name": "ipython",
    "version": 3
   },
   "file_extension": ".py",
   "mimetype": "text/x-python",
   "name": "python",
   "nbconvert_exporter": "python",
   "pygments_lexer": "ipython3",
   "version": "3.8.5"
  }
 },
 "nbformat": 4,
 "nbformat_minor": 4
}
